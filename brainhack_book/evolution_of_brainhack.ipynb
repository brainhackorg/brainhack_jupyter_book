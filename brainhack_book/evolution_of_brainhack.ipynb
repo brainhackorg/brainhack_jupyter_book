{
 "cells": [
  {
   "cell_type": "markdown",
   "metadata": {},
   "source": [
    "# Brainhack Cartography\n",
    "## Evolution of Brainhack through space and time.\n",
    "Click on the fields to zoom in, and in the center of the circle to zoom out."
   ]
  },
  {
   "cell_type": "code",
   "execution_count": null,
   "metadata": {},
   "outputs": [],
   "source": [
    "%%html\n",
    "<script>$('div.cell_input').hide();</script>\n",
    "<div id=\"observablehq-chart-99cde20f\"></div>\n",
    "<p><br /><a href=\"https://observablehq.com/@katjaq/zoomable-sunburst\">You can play with the full code for the Zoomable Sunburst by katja & anibal</a></p>\n",
    "\n",
    "<script type=\"module\">\n",
    "import {Runtime, Inspector} from \"https://cdn.jsdelivr.net/npm/@observablehq/runtime@4/dist/runtime.js\";\n",
    "import define from \"https://api.observablehq.com/@katjaq/zoomable-sunburst.js?v=3\";\n",
    "new Runtime().module(define, name => {\n",
    "  if (name === \"chart\") return new Inspector(document.querySelector(\"#observablehq-chart-99cde20f\"));\n",
    "});\n",
    "</script>"
   ]
  },
  {
   "cell_type": "code",
   "execution_count": null,
   "metadata": {},
   "outputs": [],
   "source": []
  }
 ],
 "metadata": {
  "celltoolbar": "Tags",
  "kernelspec": {
   "display_name": "Python 3",
   "language": "python",
   "name": "python3"
  },
  "language_info": {
   "codemirror_mode": {
    "name": "ipython",
    "version": 3
   },
   "file_extension": ".py",
   "mimetype": "text/x-python",
   "name": "python",
   "nbconvert_exporter": "python",
   "pygments_lexer": "ipython3",
   "version": "3.8.5-final"
  }
 },
 "nbformat": 4,
 "nbformat_minor": 4
}
